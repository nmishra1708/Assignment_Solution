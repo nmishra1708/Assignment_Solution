{
 "cells": [
  {
   "cell_type": "code",
   "execution_count": 1,
   "metadata": {},
   "outputs": [],
   "source": [
    "# 1. Create two list l1 & l2, where the value of l1-> (1, 2, 3, 4, 5, 6) and l2 has value of -> (6, 5, 4, 3, 2, 1)\n",
    "# a-> Compare the corresponding element values of both the list and print \"l1 element value is \n",
    "# greater then l2 element value\" if corresponding value l1 is greater else print \"l1 element value is less then l2 element value\"\n",
    "# if corresponding value of l1 is less then l2\n",
    "\n",
    "# 2. Create a tuple with values -> (10, 20, 30, 40, 50)\n",
    "# use a loop to add 5 more to each individual element of tuple\n",
    "\n",
    "# 3. Create a user defined function \"add_10()\" which will add 10 more to whatever value you pass in the function\n",
    "# 4. Create a user defined function \"check_odd_even()\" which will check whether the given integer value is odd or even. if the \n",
    "# value is odd or even. if the number is odd, it will print \"Odd number\", else it will print \"Even number\""
   ]
  },
  {
   "cell_type": "code",
   "execution_count": 2,
   "metadata": {},
   "outputs": [
    {
     "name": "stdout",
     "output_type": "stream",
     "text": [
      "[1, 2, 3, 4, 5, 6] [6, 5, 4, 3, 2, 1]\n"
     ]
    }
   ],
   "source": [
    "l1 = [1, 2, 3, 4, 5, 6]\n",
    "l2 = [6, 5, 4, 3, 2, 1]\n",
    "print(l1, l2)"
   ]
  },
  {
   "cell_type": "code",
   "execution_count": 3,
   "metadata": {},
   "outputs": [
    {
     "name": "stdout",
     "output_type": "stream",
     "text": [
      "l1 element value is less then l2 elemet value\n"
     ]
    }
   ],
   "source": [
    "# Solution of a\n",
    "if l1>l2:\n",
    "    print(\"l1 element value is greater then l2 element value\")\n",
    "else:\n",
    "    print(\"l1 element value is less then l2 element value\")"
   ]
  },
  {
   "cell_type": "code",
   "execution_count": 6,
   "metadata": {},
   "outputs": [
    {
     "name": "stdout",
     "output_type": "stream",
     "text": [
      "15\n",
      "25\n",
      "35\n",
      "45\n",
      "55\n"
     ]
    }
   ],
   "source": [
    "# Solution of b\n",
    "tup = (10, 20, 30, 40, 50)\n",
    "for i in tup:\n",
    "    print(i+5)"
   ]
  },
  {
   "cell_type": "code",
   "execution_count": 7,
   "metadata": {},
   "outputs": [
    {
     "data": {
      "text/plain": [
       "20"
      ]
     },
     "execution_count": 7,
     "metadata": {},
     "output_type": "execute_result"
    }
   ],
   "source": [
    "# Solution of c\n",
    "def add_10(n):\n",
    "    return n+10\n",
    "\n",
    "add_10(10)\n"
   ]
  },
  {
   "cell_type": "code",
   "execution_count": 9,
   "metadata": {},
   "outputs": [
    {
     "name": "stdout",
     "output_type": "stream",
     "text": [
      "13 is odd\n"
     ]
    }
   ],
   "source": [
    "# Solution of d\n",
    "def check_odd_even(n):\n",
    "    if n%2==0:\n",
    "        print(n, \"is even\")\n",
    "    else:\n",
    "        print(n, \"is odd\")\n",
    "        \n",
    "check_odd_even(13)\n",
    "    "
   ]
  },
  {
   "cell_type": "code",
   "execution_count": null,
   "metadata": {},
   "outputs": [],
   "source": []
  }
 ],
 "metadata": {
  "kernelspec": {
   "display_name": "Python 3",
   "language": "python",
   "name": "python3"
  },
  "language_info": {
   "codemirror_mode": {
    "name": "ipython",
    "version": 3
   },
   "file_extension": ".py",
   "mimetype": "text/x-python",
   "name": "python",
   "nbconvert_exporter": "python",
   "pygments_lexer": "ipython3",
   "version": "3.7.5"
  }
 },
 "nbformat": 4,
 "nbformat_minor": 2
}
