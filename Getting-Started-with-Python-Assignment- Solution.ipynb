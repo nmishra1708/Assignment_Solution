{
 "cells": [
  {
   "cell_type": "code",
   "execution_count": 1,
   "metadata": {},
   "outputs": [],
   "source": [
    "# created tuple tup1 -> (10, 20, 30) and tup2 -> (40, 50, 60)\n",
    "tup1 = (10, 20, 30)\n",
    "tup2 = (40, 50, 60)"
   ]
  },
  {
   "cell_type": "code",
   "execution_count": 2,
   "metadata": {},
   "outputs": [],
   "source": [
    "# a.Concatenate both tuples in t_combine\n",
    "t_combine = tup1+tup2"
   ]
  },
  {
   "cell_type": "code",
   "execution_count": 3,
   "metadata": {},
   "outputs": [],
   "source": [
    "print(t_combine)"
   ]
  },
  {
   "cell_type": "code",
   "execution_count": 4,
   "metadata": {},
   "outputs": [
    {
     "name": "stdout",
     "output_type": "stream",
     "text": [
      "(10, 20, 30, 40, 50, 60, 10, 20, 30, 40, 50, 60, 10, 20, 30, 40, 50, 60)\n"
     ]
    }
   ],
   "source": [
    "# b.Repeat the elements t_combine in 3 times\n",
    "print(t_combine*3)"
   ]
  },
  {
   "cell_type": "code",
   "execution_count": 5,
   "metadata": {},
   "outputs": [
    {
     "name": "stdout",
     "output_type": "stream",
     "text": [
      "30\n"
     ]
    }
   ],
   "source": [
    "# c. Access the third element of t_combine\n",
    "print(t_combine[2])"
   ]
  },
  {
   "cell_type": "code",
   "execution_count": 6,
   "metadata": {},
   "outputs": [
    {
     "name": "stdout",
     "output_type": "stream",
     "text": [
      "(10, 20, 30)\n"
     ]
    }
   ],
   "source": [
    "# d. Access the first three element of t_combine\n",
    "print(t_combine[:3])"
   ]
  },
  {
   "cell_type": "code",
   "execution_count": 7,
   "metadata": {},
   "outputs": [
    {
     "name": "stdout",
     "output_type": "stream",
     "text": [
      "(40, 50, 60)\n"
     ]
    }
   ],
   "source": [
    "# e. Access the last three element of t_combine\n",
    "print(t_combine[-3:])"
   ]
  },
  {
   "cell_type": "code",
   "execution_count": 8,
   "metadata": {},
   "outputs": [
    {
     "name": "stdout",
     "output_type": "stream",
     "text": [
      "[(1, 2, 3), ('a', 'b', 'c'), (True, False)]\n"
     ]
    }
   ],
   "source": [
    "# 2. Create a list 'mylist' with thses elements\n",
    "# a-> first element with a tuple 1,2,3\n",
    "# b-> Second element with a tuple \"a\",\"b\", \"c\"\n",
    "# c-> Third element with a tuple True, False\n",
    "\n",
    "mylist = [(1,2,3),(\"a\",\"b\",\"c\"),(True, False)]\n",
    "print(mylist)"
   ]
  },
  {
   "cell_type": "code",
   "execution_count": 9,
   "metadata": {},
   "outputs": [
    {
     "data": {
      "text/plain": [
       "[(1, 2, 3), ('a', 'b', 'c'), (True, False), (1, 'a', True)]"
      ]
     },
     "execution_count": 9,
     "metadata": {},
     "output_type": "execute_result"
    }
   ],
   "source": [
    "# 3. Append a new tuple - (1, 'a', True) to 'mylist'\n",
    "# a-> Append a new list- [\"sparta\", 123] to mylist\n",
    "new_tuple = (1, 'a', True)\n",
    "mylist.append((1, 'a',True))\n",
    "mylist"
   ]
  },
  {
   "cell_type": "code",
   "execution_count": 10,
   "metadata": {},
   "outputs": [],
   "source": [
    "mylist.append(\"sparta\")\n",
    "mylist.append(123)"
   ]
  },
  {
   "cell_type": "code",
   "execution_count": 11,
   "metadata": {},
   "outputs": [],
   "source": [
    "# 4. Create a dictionary 'fruit' where:\n",
    "# a-> The first key is 'fruit' and values are (\"apple\",\"banana\",\"mangos\",\"guava\" )\n",
    "# b-> The Second key is 'cost' and values are (85, 54, 120, 70)\n",
    "# c-> Extract all the keys from 'fruit'\n",
    "# d-> Extract all the values from 'fruit'\n",
    "fruit = {'fruit':[\"apple\", \"banana\", \"mangos\", \"guava\"], 'cost':[85, 54, 120, 70]}"
   ]
  },
  {
   "cell_type": "code",
   "execution_count": 13,
   "metadata": {},
   "outputs": [
    {
     "data": {
      "text/plain": [
       "dict_keys(['fruit', 'cost'])"
      ]
     },
     "execution_count": 13,
     "metadata": {},
     "output_type": "execute_result"
    }
   ],
   "source": [
    "fruit.keys()"
   ]
  },
  {
   "cell_type": "code",
   "execution_count": 14,
   "metadata": {},
   "outputs": [
    {
     "data": {
      "text/plain": [
       "dict_values([['apple', 'banana', 'mangos', 'guava'], [85, 54, 120, 70]])"
      ]
     },
     "execution_count": 14,
     "metadata": {},
     "output_type": "execute_result"
    }
   ],
   "source": [
    "fruit.values()"
   ]
  },
  {
   "cell_type": "code",
   "execution_count": 15,
   "metadata": {},
   "outputs": [
    {
     "name": "stdout",
     "output_type": "stream",
     "text": [
      "{1, 'a'}\n"
     ]
    }
   ],
   "source": [
    "# 5.  Create a set named 'my_set' with values (1, 1, \"a\", \"a\", True, True) and print the result\n",
    "my_set = {1, 1, \"a\", \"a\", True, True}\n",
    "print(my_set)"
   ]
  },
  {
   "cell_type": "code",
   "execution_count": null,
   "metadata": {},
   "outputs": [],
   "source": []
  }
 ],
 "metadata": {
  "kernelspec": {
   "display_name": "Python 3",
   "language": "python",
   "name": "python3"
  },
  "language_info": {
   "codemirror_mode": {
    "name": "ipython",
    "version": 3
   },
   "file_extension": ".py",
   "mimetype": "text/x-python",
   "name": "python",
   "nbconvert_exporter": "python",
   "pygments_lexer": "ipython3",
   "version": "3.7.5"
  }
 },
 "nbformat": 4,
 "nbformat_minor": 2
}
